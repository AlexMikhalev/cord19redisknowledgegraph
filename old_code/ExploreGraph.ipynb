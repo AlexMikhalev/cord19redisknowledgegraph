{
 "cells": [
  {
   "cell_type": "code",
   "execution_count": 7,
   "metadata": {},
   "outputs": [],
   "source": [
    "import pandas as pd\n",
    "import py2neo\n",
    "import os"
   ]
  },
  {
   "cell_type": "code",
   "execution_count": 8,
   "metadata": {},
   "outputs": [],
   "source": [
    "NEO4J_CONN_URL = \"bolt://localhost:7687\"\n",
    "NEO4J_USER = \"neo4j\"\n",
    "NEO4J_PASS = \"graph\""
   ]
  },
  {
   "cell_type": "code",
   "execution_count": 9,
   "metadata": {},
   "outputs": [],
   "source": [
    "pd.options.display.max_colwidth = 100"
   ]
  },
  {
   "cell_type": "code",
   "execution_count": 10,
   "metadata": {},
   "outputs": [],
   "source": [
    "graph = py2neo.Graph(NEO4J_CONN_URL, auth=(NEO4J_USER, NEO4J_PASS))"
   ]
  },
  {
   "cell_type": "markdown",
   "metadata": {},
   "source": [
    "# Find Important Nodes"
   ]
  },
  {
   "cell_type": "markdown",
   "metadata": {},
   "source": [
    "for this to work you need to install and configure pagerank algorithm in Neoj4 (follow docs)"
   ]
  },
  {
   "cell_type": "code",
   "execution_count": 11,
   "metadata": {},
   "outputs": [],
   "source": [
    "def get_nodes_by_pagerank(graph, ent_type):\n",
    "    query = \"\"\"\n",
    "CALL algo.pageRank.stream('%s', 'REL', {iterations:20, dampingFactor:0.85})\n",
    "YIELD nodeId, score\n",
    "RETURN algo.asNode(nodeId).ename AS page, score\n",
    "ORDER BY score DESC\n",
    "    \"\"\" % (ent_type)\n",
    "    results = graph.run(query).data()\n",
    "    return pd.DataFrame(results)"
   ]
  },
  {
   "cell_type": "code",
   "execution_count": 13,
   "metadata": {},
   "outputs": [
    {
     "data": {
      "text/html": [
       "<div>\n",
       "<style scoped>\n",
       "    .dataframe tbody tr th:only-of-type {\n",
       "        vertical-align: middle;\n",
       "    }\n",
       "\n",
       "    .dataframe tbody tr th {\n",
       "        vertical-align: top;\n",
       "    }\n",
       "\n",
       "    .dataframe thead th {\n",
       "        text-align: right;\n",
       "    }\n",
       "</style>\n",
       "<table border=\"1\" class=\"dataframe\">\n",
       "  <thead>\n",
       "    <tr style=\"text-align: right;\">\n",
       "      <th></th>\n",
       "      <th>page</th>\n",
       "      <th>score</th>\n",
       "    </tr>\n",
       "  </thead>\n",
       "  <tbody>\n",
       "    <tr>\n",
       "      <th>0</th>\n",
       "      <td>RNA_Sequence</td>\n",
       "      <td>64.238304</td>\n",
       "    </tr>\n",
       "    <tr>\n",
       "      <th>1</th>\n",
       "      <td>Trans_Fatty_Acids</td>\n",
       "      <td>61.843542</td>\n",
       "    </tr>\n",
       "    <tr>\n",
       "      <th>2</th>\n",
       "      <td>Hold_dosing_instruction_fragment</td>\n",
       "      <td>57.251569</td>\n",
       "    </tr>\n",
       "    <tr>\n",
       "      <th>3</th>\n",
       "      <td>GZMB_protein_human</td>\n",
       "      <td>56.530338</td>\n",
       "    </tr>\n",
       "    <tr>\n",
       "      <th>4</th>\n",
       "      <td>Count</td>\n",
       "      <td>54.344053</td>\n",
       "    </tr>\n",
       "    <tr>\n",
       "      <th>5</th>\n",
       "      <td>Patients</td>\n",
       "      <td>47.259701</td>\n",
       "    </tr>\n",
       "    <tr>\n",
       "      <th>6</th>\n",
       "      <td>Final</td>\n",
       "      <td>40.012675</td>\n",
       "    </tr>\n",
       "    <tr>\n",
       "      <th>7</th>\n",
       "      <td>General_medical_service</td>\n",
       "      <td>38.346763</td>\n",
       "    </tr>\n",
       "    <tr>\n",
       "      <th>8</th>\n",
       "      <td>Exposure_Domain</td>\n",
       "      <td>37.530772</td>\n",
       "    </tr>\n",
       "    <tr>\n",
       "      <th>9</th>\n",
       "      <td>chlorendic_acid</td>\n",
       "      <td>36.966760</td>\n",
       "    </tr>\n",
       "  </tbody>\n",
       "</table>\n",
       "</div>"
      ],
      "text/plain": [
       "                               page      score\n",
       "0                      RNA_Sequence  64.238304\n",
       "1                 Trans_Fatty_Acids  61.843542\n",
       "2  Hold_dosing_instruction_fragment  57.251569\n",
       "3                GZMB_protein_human  56.530338\n",
       "4                             Count  54.344053\n",
       "5                          Patients  47.259701\n",
       "6                             Final  40.012675\n",
       "7           General_medical_service  38.346763\n",
       "8                   Exposure_Domain  37.530772\n",
       "9                   chlorendic_acid  36.966760"
      ]
     },
     "execution_count": 13,
     "metadata": {},
     "output_type": "execute_result"
    }
   ],
   "source": [
    "important_entities_df = get_nodes_by_pagerank(graph, \"ENTITY\")\n",
    "important_entities_df.head(10)"
   ]
  },
  {
   "cell_type": "markdown",
   "metadata": {},
   "source": [
    "# Find interesting neighbors"
   ]
  },
  {
   "cell_type": "code",
   "execution_count": 14,
   "metadata": {},
   "outputs": [],
   "source": [
    "def get_neighbors_by_type(graph, src_name, src_type, neighbor_type):\n",
    "    query = \"\"\"\n",
    "MATCH (e1:%s {ename:\"%s\"})<-[r:REL]->(e2:%s) \n",
    "RETURN e1.ename AS src, e2.ename AS dst\n",
    "    \"\"\" % (src_type, src_name, neighbor_type)\n",
    "    results = graph.run(query).data()\n",
    "    results_df = (pd.DataFrame(results)\n",
    "        .groupby([\"src\", \"dst\"])[\"dst\"]\n",
    "        .count()\n",
    "        .reset_index(name=\"count\")\n",
    "        .sort_values(\"count\", ascending=False)\n",
    "    )\n",
    "    return results_df"
   ]
  },
  {
   "cell_type": "code",
   "execution_count": 15,
   "metadata": {},
   "outputs": [
    {
     "data": {
      "text/html": [
       "<div>\n",
       "<style scoped>\n",
       "    .dataframe tbody tr th:only-of-type {\n",
       "        vertical-align: middle;\n",
       "    }\n",
       "\n",
       "    .dataframe tbody tr th {\n",
       "        vertical-align: top;\n",
       "    }\n",
       "\n",
       "    .dataframe thead th {\n",
       "        text-align: right;\n",
       "    }\n",
       "</style>\n",
       "<table border=\"1\" class=\"dataframe\">\n",
       "  <thead>\n",
       "    <tr style=\"text-align: right;\">\n",
       "      <th></th>\n",
       "      <th>src</th>\n",
       "      <th>dst</th>\n",
       "      <th>count</th>\n",
       "    </tr>\n",
       "  </thead>\n",
       "  <tbody>\n",
       "    <tr>\n",
       "      <th>2174</th>\n",
       "      <td>GZMB_protein_human</td>\n",
       "      <td>Late_Infantile_Neuronal_Ceroid_Lipfuscinosis</td>\n",
       "      <td>17</td>\n",
       "    </tr>\n",
       "    <tr>\n",
       "      <th>2147</th>\n",
       "      <td>GZMB_protein_human</td>\n",
       "      <td>Laboratory_domain</td>\n",
       "      <td>17</td>\n",
       "    </tr>\n",
       "    <tr>\n",
       "      <th>2145</th>\n",
       "      <td>GZMB_protein_human</td>\n",
       "      <td>Laboratory_biosafety_level</td>\n",
       "      <td>17</td>\n",
       "    </tr>\n",
       "    <tr>\n",
       "      <th>4028</th>\n",
       "      <td>GZMB_protein_human</td>\n",
       "      <td>Trial_of_Labor</td>\n",
       "      <td>17</td>\n",
       "    </tr>\n",
       "    <tr>\n",
       "      <th>2212</th>\n",
       "      <td>GZMB_protein_human</td>\n",
       "      <td>Likelihood_of_Cancer_Cure</td>\n",
       "      <td>17</td>\n",
       "    </tr>\n",
       "  </tbody>\n",
       "</table>\n",
       "</div>"
      ],
      "text/plain": [
       "                     src                                           dst  count\n",
       "2174  GZMB_protein_human  Late_Infantile_Neuronal_Ceroid_Lipfuscinosis     17\n",
       "2147  GZMB_protein_human                             Laboratory_domain     17\n",
       "2145  GZMB_protein_human                    Laboratory_biosafety_level     17\n",
       "4028  GZMB_protein_human                                Trial_of_Labor     17\n",
       "2212  GZMB_protein_human                     Likelihood_of_Cancer_Cure     17"
      ]
     },
     "execution_count": 15,
     "metadata": {},
     "output_type": "execute_result"
    }
   ],
   "source": [
    "djt_per_neighbors_df = get_neighbors_by_type(graph, \"GZMB_protein_human\", \"ENTITY\", \"ENTITY\")\n",
    "djt_per_neighbors_df.head()"
   ]
  },
  {
   "cell_type": "code",
   "execution_count": null,
   "metadata": {},
   "outputs": [],
   "source": [
    "# FIXME: change to postgres\n",
    "# def build_sentence_dictionary(sent_file):\n",
    "#     sent_dict = {}\n",
    "#     fsent = open(sent_file, \"r\")\n",
    "#     for line in fsent:\n",
    "#         pid, sid, sent_text = line.strip().split('\\t')\n",
    "#         sent_dict[sid] = sent_text\n",
    "#     fsent.close()\n",
    "#     return sent_dict\n",
    "\n",
    "# sent_dict = build_sentence_dictionary(os.path.join(DATA_DIR, \"sentences.tsv\"))\n",
    "# len(sent_dict)"
   ]
  },
  {
   "cell_type": "code",
   "execution_count": null,
   "metadata": {},
   "outputs": [],
   "source": [
    "# FIXME: change use of sent dictionary\n",
    "# def show_connecting_sentences(graph, src_name, src_type, dst_name, dst_type, sent_dict):\n",
    "#     query = \"\"\"\n",
    "# MATCH (e1:%s {ename:\"%s\"})<-[r:REL]->(e2:%s {ename:\"%s\"}) \n",
    "# RETURN e1.ename AS src, e2.ename AS dst, r.sid AS sid\n",
    "# ORDER BY sid\n",
    "#     \"\"\" % (src_type, src_name, dst_type, dst_name)\n",
    "#     result = graph.run(query).data()\n",
    "#     result_df = pd.DataFrame(result)\n",
    "#     result_df[\"sent_text\"] = result_df[\"sid\"].apply(lambda x: sent_dict[x])\n",
    "#     return result_df"
   ]
  },
  {
   "cell_type": "code",
   "execution_count": null,
   "metadata": {},
   "outputs": [],
   "source": [
    "# EXAMPLE:\n",
    "# djt_db_rel_df = show_connecting_sentences(graph, \"Donald J. Trump\", \"PER\", \"Deutsche Bank\", \"ORG\", sent_dict)\n",
    "# djt_db_rel_df.head(10)"
   ]
  },
  {
   "cell_type": "markdown",
   "metadata": {},
   "source": [
    "# Find path connecting a pair of nodes"
   ]
  },
  {
   "cell_type": "code",
   "execution_count": 16,
   "metadata": {},
   "outputs": [],
   "source": [
    "# def get_path_between(graph, src_name, src_type, dst_name, dst_type):\n",
    "#     query = \"\"\"\n",
    "# MATCH (start:%s {ename:'%s'}), (end:%s {ename:'%s'})\n",
    "# CALL algo.shortestPath.stream(start, end)\n",
    "# YIELD nodeId, cost\n",
    "# RETURN algo.asNode(nodeId).ename AS name, cost    \n",
    "#     \"\"\" % (src_type, src_name, dst_type, dst_name)\n",
    "#     results = graph.run(query).data()\n",
    "#     path = [x[\"name\"] for x in results]\n",
    "#     return path"
   ]
  },
  {
   "cell_type": "code",
   "execution_count": null,
   "metadata": {},
   "outputs": [],
   "source": [
    "# djt_putin_link = get_path_between(graph, \"Donald J. Trump\", \"PER\", \"Vladimir Putin\", \"PER\")\n",
    "# print(djt_putin_link)"
   ]
  }
 ],
 "metadata": {
  "kernelspec": {
   "display_name": "Python (nerds_env)",
   "language": "python",
   "name": "nerds_env"
  },
  "language_info": {
   "codemirror_mode": {
    "name": "ipython",
    "version": 3
   },
   "file_extension": ".py",
   "mimetype": "text/x-python",
   "name": "python",
   "nbconvert_exporter": "python",
   "pygments_lexer": "ipython3",
   "version": "3.7.6"
  }
 },
 "nbformat": 4,
 "nbformat_minor": 4
}
